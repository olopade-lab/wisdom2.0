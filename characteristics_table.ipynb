{
 "cells": [
  {
   "cell_type": "code",
   "execution_count": 2,
   "metadata": {},
   "outputs": [],
   "source": [
    "import pandas as pd"
   ]
  },
  {
   "cell_type": "code",
   "execution_count": 3,
   "metadata": {},
   "outputs": [],
   "source": [
    "data = pd.read_csv('CRDW_Registry_IndexDx_2020_Jul23.csv')"
   ]
  },
  {
   "cell_type": "code",
   "execution_count": 4,
   "metadata": {},
   "outputs": [
    {
     "name": "stdout",
     "output_type": "stream",
     "text": [
      "filtered out 46 entries without a valid age\n"
     ]
    }
   ],
   "source": [
    "total_n = len(data.index)\n",
    "data = data[~pd.isnull(data.Age)]\n",
    "print('filtered out {} entries without a valid age'.format(total_n - len(data.index)))"
   ]
  },
  {
   "cell_type": "code",
   "execution_count": 5,
   "metadata": {},
   "outputs": [
    {
     "name": "stdout",
     "output_type": "stream",
     "text": [
      "filtered out 1 entries without a valid race/ethnic entry\n"
     ]
    }
   ],
   "source": [
    "total_n = len(data.index)\n",
    "data = data[data.raceethnic != '98']\n",
    "print('filtered out {} entries without a valid race/ethnic entry'.format(total_n - len(data.index)))"
   ]
  },
  {
   "cell_type": "code",
   "execution_count": 6,
   "metadata": {},
   "outputs": [
    {
     "name": "stdout",
     "output_type": "stream",
     "text": [
      "filtered out 1 entries without a valid MRN\n"
     ]
    }
   ],
   "source": [
    "total_n = len(data.index)\n",
    "data.mrn = pd.to_numeric(data.mrn, errors='coerce')\n",
    "data = data[~pd.isnull(data.mrn)]\n",
    "print('filtered out {} entries without a valid MRN'.format(total_n - len(data.index)))"
   ]
  },
  {
   "cell_type": "code",
   "execution_count": 7,
   "metadata": {},
   "outputs": [
    {
     "name": "stdout",
     "output_type": "stream",
     "text": [
      "filtered out 85 entries without a valid stage at diagnosis\n"
     ]
    }
   ],
   "source": [
    "total_n = len(data.index)\n",
    "data = data[~pd.isnull(data.stage1)]\n",
    "print('filtered out {} entries without a valid stage at diagnosis'.format(total_n - len(data.index)))"
   ]
  },
  {
   "cell_type": "code",
   "execution_count": 8,
   "metadata": {},
   "outputs": [],
   "source": [
    "data.mrn = data.mrn.astype(int)\n",
    "data.Age = data.Age.astype(int)\n",
    "data.stage1 = data.stage1.astype(int)\n",
    "data.her2 = pd.to_numeric(data.her2, errors='coerce')"
   ]
  },
  {
   "cell_type": "code",
   "execution_count": 9,
   "metadata": {},
   "outputs": [
    {
     "data": {
      "text/plain": [
       "(0, 39]      432\n",
       "(39, 49]    1013\n",
       "(49, 59]    1129\n",
       "(59, 69]     964\n",
       "(69, 99]     832\n",
       "Name: Age, dtype: int64"
      ]
     },
     "execution_count": 9,
     "metadata": {},
     "output_type": "execute_result"
    }
   ],
   "source": [
    "data.binned_age = pd.cut(data.Age, bins=[0, 39, 49, 59, 69, data.Age.max()])\n",
    "data.binned_age.value_counts(sort=False)"
   ]
  },
  {
   "cell_type": "code",
   "execution_count": 10,
   "metadata": {},
   "outputs": [
    {
     "name": "stdout",
     "output_type": "stream",
     "text": [
      "White 2439\n",
      "Black 1680\n",
      "Asian / Pacific Islander 175\n",
      "Other 85\n"
     ]
    }
   ],
   "source": [
    "race_groups = {\n",
    "    'White': ['White'],\n",
    "    'Black': ['Black'],\n",
    "    'Asian / Pacific Islander': [\n",
    "        'Asian Indian', \n",
    "        'Asian Indian or Pakistani, NOS', \n",
    "        'Filipino', 'Chinese', \n",
    "        'Other Asian, including Asian/Oriental, NOS',\n",
    "        'Japanese',\n",
    "        'Korean',\n",
    "        'Hawaiian',\n",
    "        'Vietnamese',\n",
    "        'Thai (effective with 1994 diagnoses)',\n",
    "        'Pakistani'\n",
    "    ],\n",
    "    'Other': ['Other', 'Unknown']\n",
    "}\n",
    "\n",
    "for label, group in race_groups.items():\n",
    "    print(label, len(data[data.race_1.str.contains('|'.join(group))]))"
   ]
  },
  {
   "cell_type": "code",
   "execution_count": 11,
   "metadata": {},
   "outputs": [
    {
     "name": "stdout",
     "output_type": "stream",
     "text": [
      "Hispanic: 115, non-Hispanic: 4255\n"
     ]
    }
   ],
   "source": [
    "print('Hispanic: {}, non-Hispanic: {}'.format(\n",
    "    len(data[data.raceethnic == 'Hispanic']),\n",
    "    len(data[data.raceethnic != 'Hispanic'])\n",
    "    )\n",
    ")"
   ]
  },
  {
   "cell_type": "code",
   "execution_count": 12,
   "metadata": {},
   "outputs": [
    {
     "data": {
      "text/plain": [
       "0     678\n",
       "1    1657\n",
       "2    1410\n",
       "3     490\n",
       "4     135\n",
       "Name: stage1, dtype: int64"
      ]
     },
     "execution_count": 12,
     "metadata": {},
     "output_type": "execute_result"
    }
   ],
   "source": [
    "data.stage1.value_counts().sort_index()"
   ]
  },
  {
   "cell_type": "code",
   "execution_count": 13,
   "metadata": {},
   "outputs": [],
   "source": [
    "data.hr_pos = (data.ER1 == 1) | (data.PR1 == 1)\n",
    "data.hr_neg = (data.ER1 == 0) | (data.PR1 == 0)"
   ]
  },
  {
   "cell_type": "code",
   "execution_count": 14,
   "metadata": {},
   "outputs": [
    {
     "name": "stdout",
     "output_type": "stream",
     "text": [
      "DCIS: 678\n",
      "HR+/HER2+: 329\n",
      "HR+/HER2-: 1969\n",
      "HR-/HER2+: 236\n",
      "HR-/HER2-: 745\n",
      "Unknown: 636\n"
     ]
    }
   ],
   "source": [
    "print('DCIS: {}\\nHR+/HER2+: {}\\nHR+/HER2-: {}\\nHR-/HER2+: {}\\nHR-/HER2-: {}\\nUnknown: {}'.format(\n",
    "    len(data[data.stage1 == 0]),\n",
    "    len(data[(data.stage1 != 0) & (data.hr_pos == True) & (data.her2 == 1)]),\n",
    "    len(data[(data.stage1 != 0) & (data.hr_pos == True) & (data.her2 == 0)]),\n",
    "    len(data[(data.stage1 != 0) & (data.hr_pos == False) & (data.her2 == 1)]),\n",
    "    len(data[(data.stage1 != 0) & (data.hr_pos == False) & (data.her2 == 0)]),\n",
    "    len(data[(data.stage1 != 0) & (pd.isnull(data.ER1) | pd.isnull(data.PR1) | pd.isnull(data.her2))])\n",
    "    )\n",
    ")\n"
   ]
  },
  {
   "cell_type": "code",
   "execution_count": 15,
   "metadata": {},
   "outputs": [],
   "source": [
    "mammo_data = pd.read_excel('DR_227575_COHORT-20201106.xlsx', engine='openpyxl')"
   ]
  },
  {
   "cell_type": "code",
   "execution_count": 16,
   "metadata": {},
   "outputs": [],
   "source": [
    "mammo_data['MRN'] = mammo_data['MRN'].astype(int)"
   ]
  },
  {
   "cell_type": "code",
   "execution_count": 17,
   "metadata": {},
   "outputs": [],
   "source": [
    "merged_data = data.merge(mammo_data, left_on='mrn', right_on='MRN')"
   ]
  },
  {
   "cell_type": "code",
   "execution_count": 18,
   "metadata": {},
   "outputs": [
    {
     "data": {
      "text/plain": [
       "6"
      ]
     },
     "execution_count": 18,
     "metadata": {},
     "output_type": "execute_result"
    }
   ],
   "source": [
    "len(merged_data)"
   ]
  }
 ],
 "metadata": {
  "kernelspec": {
   "display_name": "variopt",
   "language": "python",
   "name": "variopt"
  },
  "language_info": {
   "codemirror_mode": {
    "name": "ipython",
    "version": 3
   },
   "file_extension": ".py",
   "mimetype": "text/x-python",
   "name": "python",
   "nbconvert_exporter": "python",
   "pygments_lexer": "ipython3",
   "version": "3.7.9"
  }
 },
 "nbformat": 4,
 "nbformat_minor": 2
}
